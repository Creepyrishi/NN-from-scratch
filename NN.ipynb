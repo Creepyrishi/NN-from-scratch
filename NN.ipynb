{
 "cells": [
  {
   "cell_type": "code",
   "execution_count": 1,
   "id": "24ee422a-6731-4e16-9e48-15be405ddd45",
   "metadata": {},
   "outputs": [],
   "source": [
    "import pandas as pd\n",
    "import numpy as np\n",
    "import matplotlib.pyplot as plt"
   ]
  },
  {
   "cell_type": "code",
   "execution_count": 2,
   "id": "45672132-9094-4793-85b7-dc2e3cafabd0",
   "metadata": {},
   "outputs": [],
   "source": [
    "train_df = pd.read_csv(\"datas/mnist_train.csv\")\n",
    "test_df = pd.read_csv(\"datas/mnist_test.csv\")"
   ]
  },
  {
   "cell_type": "code",
   "execution_count": 3,
   "id": "d9f207d7-1393-4916-981c-651c366f3e26",
   "metadata": {},
   "outputs": [
    {
     "data": {
      "text/html": [
       "<div>\n",
       "<style scoped>\n",
       "    .dataframe tbody tr th:only-of-type {\n",
       "        vertical-align: middle;\n",
       "    }\n",
       "\n",
       "    .dataframe tbody tr th {\n",
       "        vertical-align: top;\n",
       "    }\n",
       "\n",
       "    .dataframe thead th {\n",
       "        text-align: right;\n",
       "    }\n",
       "</style>\n",
       "<table border=\"1\" class=\"dataframe\">\n",
       "  <thead>\n",
       "    <tr style=\"text-align: right;\">\n",
       "      <th></th>\n",
       "      <th>label</th>\n",
       "      <th>1x1</th>\n",
       "      <th>1x2</th>\n",
       "      <th>1x3</th>\n",
       "      <th>1x4</th>\n",
       "      <th>1x5</th>\n",
       "      <th>1x6</th>\n",
       "      <th>1x7</th>\n",
       "      <th>1x8</th>\n",
       "      <th>1x9</th>\n",
       "      <th>...</th>\n",
       "      <th>28x19</th>\n",
       "      <th>28x20</th>\n",
       "      <th>28x21</th>\n",
       "      <th>28x22</th>\n",
       "      <th>28x23</th>\n",
       "      <th>28x24</th>\n",
       "      <th>28x25</th>\n",
       "      <th>28x26</th>\n",
       "      <th>28x27</th>\n",
       "      <th>28x28</th>\n",
       "    </tr>\n",
       "  </thead>\n",
       "  <tbody>\n",
       "    <tr>\n",
       "      <th>13808</th>\n",
       "      <td>0</td>\n",
       "      <td>0</td>\n",
       "      <td>0</td>\n",
       "      <td>0</td>\n",
       "      <td>0</td>\n",
       "      <td>0</td>\n",
       "      <td>0</td>\n",
       "      <td>0</td>\n",
       "      <td>0</td>\n",
       "      <td>0</td>\n",
       "      <td>...</td>\n",
       "      <td>0</td>\n",
       "      <td>0</td>\n",
       "      <td>0</td>\n",
       "      <td>0</td>\n",
       "      <td>0</td>\n",
       "      <td>0</td>\n",
       "      <td>0</td>\n",
       "      <td>0</td>\n",
       "      <td>0</td>\n",
       "      <td>0</td>\n",
       "    </tr>\n",
       "  </tbody>\n",
       "</table>\n",
       "<p>1 rows × 785 columns</p>\n",
       "</div>"
      ],
      "text/plain": [
       "       label  1x1  1x2  1x3  1x4  1x5  1x6  1x7  1x8  1x9  ...  28x19  28x20  \\\n",
       "13808      0    0    0    0    0    0    0    0    0    0  ...      0      0   \n",
       "\n",
       "       28x21  28x22  28x23  28x24  28x25  28x26  28x27  28x28  \n",
       "13808      0      0      0      0      0      0      0      0  \n",
       "\n",
       "[1 rows x 785 columns]"
      ]
     },
     "execution_count": 3,
     "metadata": {},
     "output_type": "execute_result"
    }
   ],
   "source": [
    "train_df.sample(1)"
   ]
  },
  {
   "cell_type": "code",
   "execution_count": 4,
   "id": "e1e475a8-ac2b-4cb7-a0cc-23e3145a77f6",
   "metadata": {},
   "outputs": [],
   "source": [
    "X_train = train_df.iloc[:, 1:]\n",
    "y_train = train_df.iloc[:, 0]\n",
    "X_test = test_df.iloc[:, 1:]\n",
    "y_test = test_df.iloc[:, 0]"
   ]
  },
  {
   "cell_type": "code",
   "execution_count": 5,
   "id": "835b7bc5-ba6d-4b51-a99f-a00e43a415b6",
   "metadata": {},
   "outputs": [
    {
     "data": {
      "text/plain": [
       "0    5\n",
       "1    0\n",
       "2    4\n",
       "3    1\n",
       "4    9\n",
       "Name: label, dtype: int64"
      ]
     },
     "execution_count": 5,
     "metadata": {},
     "output_type": "execute_result"
    }
   ],
   "source": [
    "y_train.head()"
   ]
  },
  {
   "cell_type": "code",
   "execution_count": 6,
   "id": "d45eba55-73b3-413f-bce9-b1ddbfb636da",
   "metadata": {},
   "outputs": [
    {
     "data": {
      "text/html": [
       "<div>\n",
       "<style scoped>\n",
       "    .dataframe tbody tr th:only-of-type {\n",
       "        vertical-align: middle;\n",
       "    }\n",
       "\n",
       "    .dataframe tbody tr th {\n",
       "        vertical-align: top;\n",
       "    }\n",
       "\n",
       "    .dataframe thead th {\n",
       "        text-align: right;\n",
       "    }\n",
       "</style>\n",
       "<table border=\"1\" class=\"dataframe\">\n",
       "  <thead>\n",
       "    <tr style=\"text-align: right;\">\n",
       "      <th></th>\n",
       "      <th>1x1</th>\n",
       "      <th>1x2</th>\n",
       "      <th>1x3</th>\n",
       "      <th>1x4</th>\n",
       "      <th>1x5</th>\n",
       "      <th>1x6</th>\n",
       "      <th>1x7</th>\n",
       "      <th>1x8</th>\n",
       "      <th>1x9</th>\n",
       "      <th>1x10</th>\n",
       "      <th>...</th>\n",
       "      <th>28x19</th>\n",
       "      <th>28x20</th>\n",
       "      <th>28x21</th>\n",
       "      <th>28x22</th>\n",
       "      <th>28x23</th>\n",
       "      <th>28x24</th>\n",
       "      <th>28x25</th>\n",
       "      <th>28x26</th>\n",
       "      <th>28x27</th>\n",
       "      <th>28x28</th>\n",
       "    </tr>\n",
       "  </thead>\n",
       "  <tbody>\n",
       "    <tr>\n",
       "      <th>0</th>\n",
       "      <td>0</td>\n",
       "      <td>0</td>\n",
       "      <td>0</td>\n",
       "      <td>0</td>\n",
       "      <td>0</td>\n",
       "      <td>0</td>\n",
       "      <td>0</td>\n",
       "      <td>0</td>\n",
       "      <td>0</td>\n",
       "      <td>0</td>\n",
       "      <td>...</td>\n",
       "      <td>0</td>\n",
       "      <td>0</td>\n",
       "      <td>0</td>\n",
       "      <td>0</td>\n",
       "      <td>0</td>\n",
       "      <td>0</td>\n",
       "      <td>0</td>\n",
       "      <td>0</td>\n",
       "      <td>0</td>\n",
       "      <td>0</td>\n",
       "    </tr>\n",
       "    <tr>\n",
       "      <th>1</th>\n",
       "      <td>0</td>\n",
       "      <td>0</td>\n",
       "      <td>0</td>\n",
       "      <td>0</td>\n",
       "      <td>0</td>\n",
       "      <td>0</td>\n",
       "      <td>0</td>\n",
       "      <td>0</td>\n",
       "      <td>0</td>\n",
       "      <td>0</td>\n",
       "      <td>...</td>\n",
       "      <td>0</td>\n",
       "      <td>0</td>\n",
       "      <td>0</td>\n",
       "      <td>0</td>\n",
       "      <td>0</td>\n",
       "      <td>0</td>\n",
       "      <td>0</td>\n",
       "      <td>0</td>\n",
       "      <td>0</td>\n",
       "      <td>0</td>\n",
       "    </tr>\n",
       "    <tr>\n",
       "      <th>2</th>\n",
       "      <td>0</td>\n",
       "      <td>0</td>\n",
       "      <td>0</td>\n",
       "      <td>0</td>\n",
       "      <td>0</td>\n",
       "      <td>0</td>\n",
       "      <td>0</td>\n",
       "      <td>0</td>\n",
       "      <td>0</td>\n",
       "      <td>0</td>\n",
       "      <td>...</td>\n",
       "      <td>0</td>\n",
       "      <td>0</td>\n",
       "      <td>0</td>\n",
       "      <td>0</td>\n",
       "      <td>0</td>\n",
       "      <td>0</td>\n",
       "      <td>0</td>\n",
       "      <td>0</td>\n",
       "      <td>0</td>\n",
       "      <td>0</td>\n",
       "    </tr>\n",
       "    <tr>\n",
       "      <th>3</th>\n",
       "      <td>0</td>\n",
       "      <td>0</td>\n",
       "      <td>0</td>\n",
       "      <td>0</td>\n",
       "      <td>0</td>\n",
       "      <td>0</td>\n",
       "      <td>0</td>\n",
       "      <td>0</td>\n",
       "      <td>0</td>\n",
       "      <td>0</td>\n",
       "      <td>...</td>\n",
       "      <td>0</td>\n",
       "      <td>0</td>\n",
       "      <td>0</td>\n",
       "      <td>0</td>\n",
       "      <td>0</td>\n",
       "      <td>0</td>\n",
       "      <td>0</td>\n",
       "      <td>0</td>\n",
       "      <td>0</td>\n",
       "      <td>0</td>\n",
       "    </tr>\n",
       "    <tr>\n",
       "      <th>4</th>\n",
       "      <td>0</td>\n",
       "      <td>0</td>\n",
       "      <td>0</td>\n",
       "      <td>0</td>\n",
       "      <td>0</td>\n",
       "      <td>0</td>\n",
       "      <td>0</td>\n",
       "      <td>0</td>\n",
       "      <td>0</td>\n",
       "      <td>0</td>\n",
       "      <td>...</td>\n",
       "      <td>0</td>\n",
       "      <td>0</td>\n",
       "      <td>0</td>\n",
       "      <td>0</td>\n",
       "      <td>0</td>\n",
       "      <td>0</td>\n",
       "      <td>0</td>\n",
       "      <td>0</td>\n",
       "      <td>0</td>\n",
       "      <td>0</td>\n",
       "    </tr>\n",
       "  </tbody>\n",
       "</table>\n",
       "<p>5 rows × 784 columns</p>\n",
       "</div>"
      ],
      "text/plain": [
       "   1x1  1x2  1x3  1x4  1x5  1x6  1x7  1x8  1x9  1x10  ...  28x19  28x20  \\\n",
       "0    0    0    0    0    0    0    0    0    0     0  ...      0      0   \n",
       "1    0    0    0    0    0    0    0    0    0     0  ...      0      0   \n",
       "2    0    0    0    0    0    0    0    0    0     0  ...      0      0   \n",
       "3    0    0    0    0    0    0    0    0    0     0  ...      0      0   \n",
       "4    0    0    0    0    0    0    0    0    0     0  ...      0      0   \n",
       "\n",
       "   28x21  28x22  28x23  28x24  28x25  28x26  28x27  28x28  \n",
       "0      0      0      0      0      0      0      0      0  \n",
       "1      0      0      0      0      0      0      0      0  \n",
       "2      0      0      0      0      0      0      0      0  \n",
       "3      0      0      0      0      0      0      0      0  \n",
       "4      0      0      0      0      0      0      0      0  \n",
       "\n",
       "[5 rows x 784 columns]"
      ]
     },
     "execution_count": 6,
     "metadata": {},
     "output_type": "execute_result"
    }
   ],
   "source": [
    "X_train.head()"
   ]
  },
  {
   "cell_type": "code",
   "execution_count": 7,
   "id": "a0095648-213a-4945-b419-2911039e0af9",
   "metadata": {},
   "outputs": [
    {
     "data": {
      "text/plain": [
       "(60000, 784)"
      ]
     },
     "execution_count": 7,
     "metadata": {},
     "output_type": "execute_result"
    }
   ],
   "source": [
    "X_train.shape"
   ]
  },
  {
   "cell_type": "code",
   "execution_count": 8,
   "id": "14c959b9-2431-479b-bf1c-e3f5da47c3eb",
   "metadata": {},
   "outputs": [],
   "source": [
    "# ReLU activation function\n",
    "def ReLU(z):\n",
    "    return np.maximum(0, z)"
   ]
  },
  {
   "cell_type": "code",
   "execution_count": 9,
   "id": "03727831-5b6c-470b-a0a4-9721e555e7c4",
   "metadata": {},
   "outputs": [],
   "source": [
    "# Softmax function\n",
    "def sft_max(z):\n",
    "    return np.exp(z)/np.sum(np.exp(z), axis = 1,  keepdims=True) #If z is a matrix (batch of inputs), softmax should be applied row-wise"
   ]
  },
  {
   "cell_type": "code",
   "execution_count": 10,
   "id": "d2b08302-b558-4a7c-883d-bcaea2d64d4d",
   "metadata": {},
   "outputs": [],
   "source": [
    "# one_hot encoding\n",
    "def one_hot(val): \n",
    "    val = np.array(val)\n",
    "    one_hot = np.zeros(shape= (val.shape[0], 10))\n",
    "    one_hot[np.arange(val.size), val] = 1\n",
    "    return one_hot"
   ]
  },
  {
   "cell_type": "code",
   "execution_count": 11,
   "id": "eb98a1e6-f98a-4dce-965e-be625173e8e0",
   "metadata": {},
   "outputs": [],
   "source": [
    "# Initialization of weights\n",
    "#layer 0\n",
    "W0 = np.random.randn(784, 4) * 0.01\n",
    "B0 = np.zeros(shape=(1, 4))\n",
    "\n",
    "#Layer 1\n",
    "W1 = np.random.randn(4, 8)  * 0.01\n",
    "B1 = np.zeros(shape=(1, 8))\n",
    "\n",
    "#OUTPUT layer\n",
    "W2 = np.random.randn(8, 10)  * 0.01\n",
    "B2 = np.zeros(shape=(1, 10))\n",
    "\n",
    "# We don't initillize w to 0 because this will make each neuron to learn same thing\n",
    "# We multiply the random w by a small number (0.01) to make it small if not this can make vanishing gradinet problem"
   ]
  },
  {
   "cell_type": "code",
   "execution_count": 12,
   "id": "fb04cf74-a953-49e6-b8d7-a8668332e837",
   "metadata": {},
   "outputs": [],
   "source": [
    "# Forward Pass\n",
    "def forward_pass(X):\n",
    "    global  W0, B0, W1, B1, W2, B2\n",
    "    Z0 = np.dot(X, W0) + B0\n",
    "    A0 = ReLU(Z0)\n",
    "    \n",
    "    Z1 = np.dot(A0, W1) + B1\n",
    "    A1 = ReLU(Z1)\n",
    "    \n",
    "    Z2 = np.dot(A1, W2) + B2\n",
    "    A2 = sft_max(Z2)\n",
    "    return Z0, A0, Z1, A1, Z2, A2"
   ]
  },
  {
   "cell_type": "code",
   "execution_count": 13,
   "id": "55ca8d3e-2e3f-4879-8357-0298cbd69b02",
   "metadata": {},
   "outputs": [],
   "source": [
    "# Prediction\n",
    "def predict(A2):\n",
    "    \"\"\"\n",
    "    We Use argmax because the softmax function gives us probablity distrubution of all classes so use the index of the higest prediction\n",
    "    \"\"\"\n",
    "    prediction =  np.argmax(A2, axis = 1) \n",
    "    return prediction"
   ]
  },
  {
   "cell_type": "code",
   "execution_count": 14,
   "id": "1c2b694e-63cf-4ca2-a017-066c4eee4af4",
   "metadata": {},
   "outputs": [],
   "source": [
    "# Cost function\n",
    "def cost(y, a):\n",
    "    \"\"\" a is raw soft max output A3 \"\"\"\n",
    "    return - (np.sum(y * np.log(a + 0.0000000001))/a.shape[0])"
   ]
  },
  {
   "cell_type": "code",
   "execution_count": 15,
   "id": "48d9655c-5f47-45e1-8896-a068fd7a5756",
   "metadata": {},
   "outputs": [],
   "source": [
    "#Derevatives\n",
    "def d_ReLU(z):\n",
    "    return (z > 0).astype(float)  # Derivative of ReLU: 1 if z > 0, else 0\n",
    "\n",
    "def d_sft_max(A2, Y):\n",
    "    \"\"\"Gradient of softmax loss (cross-entropy).\"\"\"\n",
    "    return A2 - Y  # Since we use softmax + cross-entropy, this is simplified"
   ]
  },
  {
   "cell_type": "code",
   "execution_count": 16,
   "id": "32c8db1b-ed46-4889-bcf1-d9eee638dac3",
   "metadata": {},
   "outputs": [],
   "source": [
    "# Back Propagation\n",
    "def back_prop(W0, B0, W1, B1, W2, B2, Z0, A0, Z1, A1, Z2, A2,X, Y):\n",
    "    \"\"\" Y is ground truth\"\"\"\n",
    "    n = Y.shape[0] # numnber of the exmap\n",
    "    \n",
    "    # Output layer\n",
    "    dZ2 = d_sft_max(A2, Y)\n",
    "    dW2 = np.dot(A1.T, dZ2) / n\n",
    "    dB2 = np.sum(dZ2, axis=0, keepdims=True) / n\n",
    "    \n",
    "    # Layer 1\n",
    "    dZ1 = np.dot(dZ2, W2.T) * d_ReLU(Z1)  \n",
    "    dW1 = np.dot(A0.T, dZ1) / n\n",
    "    dB1 = np.sum(dZ1, axis=0, keepdims=True) / n\n",
    "    \n",
    "    # Layer 0\n",
    "    dZ0 = np.dot(dZ1, W1.T) * d_ReLU(Z0)  \n",
    "    dW0 = np.dot(X.T, dZ0) / n\n",
    "    dB0 = np.sum(dZ0, axis=0, keepdims=True) / n\n",
    "\n",
    "    return dW0, dB0, dW1, dB1, dW2, dB2"
   ]
  },
  {
   "cell_type": "code",
   "execution_count": 17,
   "id": "3899090f-be2b-461c-9bef-976b411b92b2",
   "metadata": {},
   "outputs": [],
   "source": [
    "# Update\n",
    "def update(alpha, dW0, dB0, dW1, dB1, dW2, dB2):\n",
    "    global W0, B0, W1, B1, W2, B2\n",
    "    \n",
    "    W2 -= alpha * dW2\n",
    "    B2 -= alpha * dB2\n",
    "    \n",
    "    W1 -= alpha * dW1\n",
    "    B1 -= alpha * dB1\n",
    "    \n",
    "    W0 -= alpha * dW0\n",
    "    B0 -= alpha * dB0"
   ]
  },
  {
   "cell_type": "code",
   "execution_count": 18,
   "id": "2028129b-a3d1-44d5-b127-5e0b2719e7e4",
   "metadata": {},
   "outputs": [],
   "source": [
    "# Accuracy\n",
    "def accuracy(x, y):\n",
    "    params = forward_pass(x)\n",
    "    predictions = predict(params[-1])\n",
    "    accuracy = np.mean(predictions == y) * 100 \n",
    "    return accuracy"
   ]
  },
  {
   "cell_type": "code",
   "execution_count": 19,
   "id": "1e94202d-067a-4787-9501-9265d0128530",
   "metadata": {},
   "outputs": [],
   "source": [
    "def train(alpha, epochs):\n",
    "    global W0, B0, W1, B1, W2, B2  # Use global weights and biases\n",
    "\n",
    "    Y_train_oh = one_hot(y_train)  # Convert labels to one-hot encoding\n",
    "    losses = []  # To track loss over epochs\n",
    "\n",
    "    for epoch in range(epochs):\n",
    "        # Forward Pass\n",
    "        Z0, A0, Z1, A1, Z2, A2 = forward_pass(X_train)\n",
    "\n",
    "        # Compute Cost\n",
    "        loss = cost(Y_train_oh, A2)\n",
    "        losses.append(loss)\n",
    "\n",
    "        # Backpropagation\n",
    "        dW0, dB0, dW1, dB1, dW2, dB2 = back_prop(W0, B0, W1, B1, W2, B2, Z0, A0, Z1, A1, Z2, A2, X_train, Y_train_oh)\n",
    "\n",
    "        # Update Weights\n",
    "        update(alpha, dW0, dB0, dW1, dB1, dW2, dB2)\n",
    "\n",
    "        # Print loss every 100 epochs\n",
    "        if epoch % 100 == 0:\n",
    "            print(f\"Epoch {epoch}, Loss: {loss:.4f}, Training Accuracy: {accuracy(X_train, y_train):.4f}, Test Accuracy: {accuracy(X_test, y_test):.4f}\")\n",
    "\n",
    "    # Plot the loss curve\n",
    "    plt.plot(losses)\n",
    "    plt.xlabel(\"Epochs\")\n",
    "    plt.ylabel(\"Loss\")\n",
    "    plt.title(\"Training Loss Curve\")\n",
    "    plt.show()\n"
   ]
  },
  {
   "cell_type": "code",
   "execution_count": null,
   "id": "b149db06-5e09-4476-b4df-4f61fe1ecb45",
   "metadata": {},
   "outputs": [
    {
     "name": "stdout",
     "output_type": "stream",
     "text": [
      "Epoch 0, Loss: 2.3027, Training Accuracy: 6.7267, Test Accuracy: 6.7100\n",
      "Epoch 100, Loss: 2.0412, Training Accuracy: 13.5400, Test Accuracy: 13.6900\n"
     ]
    }
   ],
   "source": [
    "train(alpha=0.01, epochs=1000)"
   ]
  }
 ],
 "metadata": {
  "kernelspec": {
   "display_name": "Python (myenv)",
   "language": "python",
   "name": "myenv"
  },
  "language_info": {
   "codemirror_mode": {
    "name": "ipython",
    "version": 3
   },
   "file_extension": ".py",
   "mimetype": "text/x-python",
   "name": "python",
   "nbconvert_exporter": "python",
   "pygments_lexer": "ipython3",
   "version": "3.9.13"
  }
 },
 "nbformat": 4,
 "nbformat_minor": 5
}
